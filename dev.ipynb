{
 "cells": [
  {
   "cell_type": "code",
   "execution_count": 3,
   "metadata": {},
   "outputs": [
    {
     "data": {
      "text/plain": [
       "{'Steve de Peijper': {'token_type': 'Bearer',\n",
       "  'expires_at': 1697996857,\n",
       "  'expires_in': 5063,\n",
       "  'refresh_token': '8a138327cb496c573fcb20157e4d3e3480bbceac',\n",
       "  'access_token': 'ad40dc7624e23d2d5e9698be4a151da30bdc370b',\n",
       "  'athlete': {'id': 16132548,\n",
       "   'username': 'steven_dp',\n",
       "   'resource_state': 2,\n",
       "   'firstname': 'Steven',\n",
       "   'lastname': 'Dp 😍🚴🏼',\n",
       "   'bio': '',\n",
       "   'city': '',\n",
       "   'state': '',\n",
       "   'country': '',\n",
       "   'sex': 'M',\n",
       "   'premium': True,\n",
       "   'summit': True,\n",
       "   'created_at': '2016-07-04T05:35:47Z',\n",
       "   'updated_at': '2023-10-14T16:54:02Z',\n",
       "   'badge_type_id': 1,\n",
       "   'weight': 80.0,\n",
       "   'profile_medium': 'https://dgalywyr863hv.cloudfront.net/pictures/athletes/16132548/25518428/1/medium.jpg',\n",
       "   'profile': 'https://dgalywyr863hv.cloudfront.net/pictures/athletes/16132548/25518428/1/large.jpg',\n",
       "   'friend': None,\n",
       "   'follower': None}}}"
      ]
     },
     "execution_count": 3,
     "metadata": {},
     "output_type": "execute_result"
    }
   ],
   "source": [
    "import json\n",
    "# load userid.json\n",
    "with open('userid.json', 'r') as f:\n",
    "    userid = json.load(f)\n",
    "userid\n"
   ]
  },
  {
   "cell_type": "code",
   "execution_count": 11,
   "metadata": {},
   "outputs": [
    {
     "data": {
      "text/plain": [
       "71.58049079974492"
      ]
     },
     "execution_count": 11,
     "metadata": {},
     "output_type": "execute_result"
    }
   ],
   "source": [
    "# calculate the number of days left for each user\n",
    "from datetime import datetime\n",
    "# translate expires_at to datetime\n",
    "\n",
    "at = userid['Steve de Peijper']['expires_at']\n",
    "\n",
    "#translate epoc time to datetime\n",
    "datetime.fromtimestamp(at)\n",
    "# calculate the number of minutes left from now\n",
    "from datetime import datetime\n",
    "# translate expires_at to datetime\n",
    "at = userid['Steve de Peijper']['expires_at']\n",
    "# now to epoc time\n",
    "now = datetime.now().timestamp()\n",
    "# calculate the number of minutes left\n",
    "minutes_left = (at - now) / 60\n",
    "minutes_left"
   ]
  },
  {
   "cell_type": "code",
   "execution_count": 14,
   "metadata": {},
   "outputs": [],
   "source": [
    "def get_activitydata(idpar):\n",
    "    url = \"https://www.strava.com/api/v3/activities/\" + str(idpar) + \"/streams/time\"\n",
    "    r = requests.get(url + '?access_token=' + access_token + '&types=[\"time\"]&key_by_type=true', verify=False)\n",
    "    r = r.json()\n",
    "    return r"
   ]
  },
  {
   "cell_type": "code",
   "execution_count": null,
   "metadata": {},
   "outputs": [],
   "source": []
  },
  {
   "cell_type": "code",
   "execution_count": 18,
   "metadata": {},
   "outputs": [
    {
     "name": "stderr",
     "output_type": "stream",
     "text": [
      "c:\\Temp\\Resource-API\\.venv\\Lib\\site-packages\\urllib3\\connectionpool.py:1100: InsecureRequestWarning: Unverified HTTPS request is being made to host 'www.strava.com'. Adding certificate verification is strongly advised. See: https://urllib3.readthedocs.io/en/latest/advanced-usage.html#tls-warnings\n",
      "  warnings.warn(\n"
     ]
    },
    {
     "name": "stdout",
     "output_type": "stream",
     "text": [
      "10082296657\n"
     ]
    },
    {
     "name": "stderr",
     "output_type": "stream",
     "text": [
      "c:\\Temp\\Resource-API\\.venv\\Lib\\site-packages\\urllib3\\connectionpool.py:1100: InsecureRequestWarning: Unverified HTTPS request is being made to host 'www.strava.com'. Adding certificate verification is strongly advised. See: https://urllib3.readthedocs.io/en/latest/advanced-usage.html#tls-warnings\n",
      "  warnings.warn(\n"
     ]
    },
    {
     "name": "stdout",
     "output_type": "stream",
     "text": [
      "10082296651\n"
     ]
    },
    {
     "name": "stderr",
     "output_type": "stream",
     "text": [
      "c:\\Temp\\Resource-API\\.venv\\Lib\\site-packages\\urllib3\\connectionpool.py:1100: InsecureRequestWarning: Unverified HTTPS request is being made to host 'www.strava.com'. Adding certificate verification is strongly advised. See: https://urllib3.readthedocs.io/en/latest/advanced-usage.html#tls-warnings\n",
      "  warnings.warn(\n"
     ]
    }
   ],
   "source": [
    "\n",
    "import requests\n",
    "import pandas as pd\n",
    "from pandas import json_normalize\n",
    "import json\n",
    "import csv\n",
    "\n",
    "# Get the tokens from file to connect to Strava\n",
    "with open('userid.json') as json_file:\n",
    "    strava_tokens = json.load(json_file)\n",
    "# Loop through all activities\n",
    "url = \"https://www.strava.com/api/v3/activities\"\n",
    "access_token = strava_tokens['Steve de Peijper']['access_token']\n",
    "# Get first page of activities from Strava with all fields\n",
    "r = requests.get(url + '?access_token=' + access_token, verify=False)\n",
    "r = r.json()\n",
    "    \n",
    "df = pd.json_normalize(r)\n",
    "#df.to_csv('strava_activities_all_fields.csv')\n",
    "df.head(n=20)\n",
    "\n",
    "for index, acrow in df.head(n=2).iterrows():\n",
    "    print(acrow['id'])\n",
    "    r = get_activitydata(acrow['id'])\n",
    "    r\n",
    "    #if acrow['distance'] > 2000 and acrow['type'] == 'Ride':  \n",
    "       # update_activity_post(acrow['id'], acrow['distance'], acrow['elapsed_time'] )"
   ]
  },
  {
   "cell_type": "code",
   "execution_count": null,
   "metadata": {},
   "outputs": [],
   "source": []
  },
  {
   "cell_type": "code",
   "execution_count": null,
   "metadata": {},
   "outputs": [],
   "source": []
  },
  {
   "cell_type": "code",
   "execution_count": null,
   "metadata": {},
   "outputs": [],
   "source": []
  },
  {
   "cell_type": "code",
   "execution_count": null,
   "metadata": {},
   "outputs": [],
   "source": []
  },
  {
   "cell_type": "code",
   "execution_count": null,
   "metadata": {},
   "outputs": [],
   "source": []
  },
  {
   "cell_type": "code",
   "execution_count": null,
   "metadata": {},
   "outputs": [],
   "source": []
  },
  {
   "cell_type": "code",
   "execution_count": null,
   "metadata": {},
   "outputs": [],
   "source": [
    "\n"
   ]
  }
 ],
 "metadata": {
  "kernelspec": {
   "display_name": ".venv",
   "language": "python",
   "name": "python3"
  },
  "language_info": {
   "codemirror_mode": {
    "name": "ipython",
    "version": 3
   },
   "file_extension": ".py",
   "mimetype": "text/x-python",
   "name": "python",
   "nbconvert_exporter": "python",
   "pygments_lexer": "ipython3",
   "version": "3.11.6"
  }
 },
 "nbformat": 4,
 "nbformat_minor": 2
}
