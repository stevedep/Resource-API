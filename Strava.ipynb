{
 "cells": [
  {
   "cell_type": "code",
   "execution_count": 28,
   "metadata": {},
   "outputs": [
    {
     "name": "stdout",
     "output_type": "stream",
     "text": [
      "{'token_type': 'Bearer', 'expires_at': 1688826969, 'expires_in': 21600, 'refresh_token': '8a138327cb496c573fcb20157e4d3e3480bbceac', 'access_token': 'b3b2a0b1a0caf1889a637ff94443b29580db1ee8', 'athlete': {'id': 16132548, 'username': 'steven_dp', 'resource_state': 2, 'firstname': 'Steven', 'lastname': 'Dp 😍🚴🏼', 'bio': '', 'city': '', 'state': '', 'country': '', 'sex': 'M', 'premium': False, 'summit': False, 'created_at': '2016-07-04T05:35:47Z', 'updated_at': '2022-12-27T11:30:51Z', 'badge_type_id': 0, 'weight': 83.0, 'profile_medium': 'https://dgalywyr863hv.cloudfront.net/pictures/athletes/16132548/25518428/1/medium.jpg', 'profile': 'https://dgalywyr863hv.cloudfront.net/pictures/athletes/16132548/25518428/1/large.jpg', 'friend': None, 'follower': None}}\n"
     ]
    },
    {
     "name": "stderr",
     "output_type": "stream",
     "text": [
      "c:\\Users\\Steve\\AppData\\Local\\Programs\\Python\\Python311\\Lib\\site-packages\\urllib3\\connectionpool.py:1095: InsecureRequestWarning: Unverified HTTPS request is being made to host 'www.strava.com'. Adding certificate verification is strongly advised. See: https://urllib3.readthedocs.io/en/latest/advanced-usage.html#tls-warnings\n",
      "  warnings.warn(\n"
     ]
    },
    {
     "name": "stdout",
     "output_type": "stream",
     "text": [
      "9281835440\n"
     ]
    },
    {
     "name": "stderr",
     "output_type": "stream",
     "text": [
      "c:\\Users\\Steve\\AppData\\Local\\Programs\\Python\\Python311\\Lib\\site-packages\\urllib3\\connectionpool.py:1095: InsecureRequestWarning: Unverified HTTPS request is being made to host 'www.strava.com'. Adding certificate verification is strongly advised. See: https://urllib3.readthedocs.io/en/latest/advanced-usage.html#tls-warnings\n",
      "  warnings.warn(\n",
      "c:\\Users\\Steve\\AppData\\Local\\Programs\\Python\\Python311\\Lib\\site-packages\\urllib3\\connectionpool.py:1095: InsecureRequestWarning: Unverified HTTPS request is being made to host 'www.strava.com'. Adding certificate verification is strongly advised. See: https://urllib3.readthedocs.io/en/latest/advanced-usage.html#tls-warnings\n",
      "  warnings.warn(\n"
     ]
    },
    {
     "name": "stdout",
     "output_type": "stream",
     "text": [
      "updated\n",
      "9195981097\n"
     ]
    },
    {
     "name": "stderr",
     "output_type": "stream",
     "text": [
      "c:\\Users\\Steve\\AppData\\Local\\Programs\\Python\\Python311\\Lib\\site-packages\\urllib3\\connectionpool.py:1095: InsecureRequestWarning: Unverified HTTPS request is being made to host 'www.strava.com'. Adding certificate verification is strongly advised. See: https://urllib3.readthedocs.io/en/latest/advanced-usage.html#tls-warnings\n",
      "  warnings.warn(\n",
      "c:\\Users\\Steve\\AppData\\Local\\Programs\\Python\\Python311\\Lib\\site-packages\\urllib3\\connectionpool.py:1095: InsecureRequestWarning: Unverified HTTPS request is being made to host 'www.strava.com'. Adding certificate verification is strongly advised. See: https://urllib3.readthedocs.io/en/latest/advanced-usage.html#tls-warnings\n",
      "  warnings.warn(\n"
     ]
    },
    {
     "name": "stdout",
     "output_type": "stream",
     "text": [
      "updated\n"
     ]
    }
   ],
   "source": [
    "#refresh token\n",
    "\n",
    "\n",
    "def get_activitydata(idpar):\n",
    "    url = \"https://www.strava.com/api/v3/activities/\" + str(idpar) + \"/streams/time\"\n",
    "    r = requests.get(url + '?access_token=' + access_token + '&types=[\"time\"]&key_by_type=true', verify=False)\n",
    "    r = r.json()\n",
    "    return r\n",
    "\n",
    "def create_dataframe(r):\n",
    "    df = pd.DataFrame(r['distance']['data'])\n",
    "    df2 = pd.DataFrame(r['time']['data'])\n",
    "    df3= pd.concat([df, df2], axis=1)\n",
    "    df_res = pd.concat([df3.shift(1), df3], axis=1)\n",
    "    df_res.columns = ['dist-1', 'time-1', 'dist', 'time']\n",
    "    df_res['time_diff'] = df_res['time'] - df_res['time-1']\n",
    "    df_res['dist_diff'] = df_res['dist'] - df_res['dist-1']\n",
    "    df_res['speed'] = (df_res['dist_diff'] / df_res['time_diff']) * 3.6\n",
    "    df_res['sumcumtimediff'] =  df_res.sort_values(by=['speed'], ascending=True)['time_diff'].cumsum()\n",
    "    df_res['sumcumdistdiff'] =  df_res.sort_values(by=['speed'], ascending=True)['dist_diff'].cumsum()\n",
    "    time = df_res.loc[df_res['speed'].size-1]['time']\n",
    "    df_res['percentile'] = (df_res['sumcumtimediff']) / time \n",
    "    df_res['percentilerounded'] = round((df_res['percentile'] * 100) , 0) \n",
    "    return df_res\n",
    "\n",
    "def calculate_split(df_res, minutes):\n",
    "    lst = []\n",
    "    #minutes = 20\n",
    "    interval = minutes * 60\n",
    "\n",
    "    for index, row in df_res.iterrows():    \n",
    "        if df_res[df_res['time']<=row['time']-interval]['time'].size != 0:\n",
    "            val = max(df_res[df_res['time']<=row['time']-interval]['time'])\n",
    "            record = df_res[df_res['time']==val]\n",
    "            timediff = row['time'] - record['time']\n",
    "            distdiff = row['dist'] - record['dist']\n",
    "            speed = (distdiff / timediff) * 3.6\n",
    "            #print(str(row['time']) + \" avg speed \" + str(speed.to_string(index=False)))\n",
    "            lst.append(float(speed.to_string(index=False)))\n",
    "        else:\n",
    "            lst.append(0)\n",
    "    \n",
    "    \n",
    "    val = max(lst)\n",
    "    p = lst.index(val)\n",
    "    df2 = df_res.filter(items = [p], axis=0)\n",
    "    \n",
    "    timeval = max(df_res[df_res['time']<=int(float((df2['time']-(60*minutes)).to_string(index=False)))]['time'])\n",
    "    kmrecord = df_res[df_res['time']==timeval]\n",
    "    #print(int(float((df2['time']-(60*minutes)).to_string(index=False))))\n",
    "    \n",
    "    \n",
    "    return [str(round(val,2)), str(int(float(((df2['time']/60)-minutes).to_string(index=False)))),\n",
    "           str(round(float(((kmrecord['dist']/1000)).to_string(index=False)),2))]\n",
    "\n",
    "def update_post(idpar, datapar):\n",
    "    endpoint = \"https://www.strava.com/api/v3/activities/\" + str(idpar)\n",
    "    data = datapar\n",
    "    headers = {\"Authorization\": \"Bearer \" + access_token}\n",
    "\n",
    "    requests.put(endpoint, data=data, headers=headers, verify=False).json()\n",
    "    print('updated')\n",
    "\n",
    "def update_activity_post(idpar, distpar, timepar):\n",
    "    r = get_activitydata(idpar)\n",
    "    \n",
    "    if list(r.keys())[0] == 'distance':\n",
    "        df_res = create_dataframe(r)\n",
    "\n",
    "        if max(df_res['time']) / 60 > 10:\n",
    "            result_10 = calculate_split(df_res, 10)\n",
    "        else:\n",
    "            result_10 = ['0', '0', '0']\n",
    "        if max(df_res['time']) / 60 > 20:\n",
    "            result_20 = calculate_split(df_res, 20)\n",
    "        else:\n",
    "            result_20 = ['0', '0', '0']\n",
    "        if max(df_res['time']) / 60 > 30:\n",
    "            result_30 = calculate_split(df_res, 30)\n",
    "        else:\n",
    "            result_30 = ['0', '0', '0']\n",
    "\n",
    "        subset = df_res[df_res['speed']<=18]\n",
    "\n",
    "        maxtimediff = max(subset['sumcumtimediff'])\n",
    "\n",
    "        maxdistdiff = max(subset['sumcumdistdiff']) \n",
    "        \n",
    "        movingspeed = round((((distpar - maxdistdiff) / (timepar - maxtimediff)) * 3.6),2)\n",
    "        \n",
    "        timemoving = round(((timepar - maxtimediff) / 60),0)\n",
    "        \n",
    "        prctimemoving = round((((timepar - maxtimediff) / timepar) * 100),0)\n",
    "        \n",
    "        data = {\n",
    "            'description': 'Avg. Moving speed (20+): ' + str(movingspeed) + ' (' + str(prctimemoving) + '%, ' + str(timemoving) + ' mins )' + '''\n",
    "50% Qrt Speed: ''' + str(round(min(df_res[df_res['percentilerounded']==50]['speed']),2)) + '''\n",
    "Best 10 min Speed: ''' + result_10[0] + ' @ ' + result_10[1] + ' min & ' + result_10[2] + ' km.' + '''\n",
    "Best 20 min Speed: ''' + result_20[0] + ' @ ' + result_20[1] + ' min & ' + result_20[2] + ' km.' + '''\n",
    "Best 30 min Speed: ''' + result_30[0] + ' @ ' + result_30[1] + ' min & ' + result_30[2] + ' km.' + '''\n",
    "75% Qrt Speed: ''' + str(round(min(df_res[df_res['percentilerounded']==75]['speed']),2)) + '''\n",
    "This description has been automatically generated, for details view: https://medium.com/@steve.depeijper/add-speed-metrics-like-average-moving-speed-to-strava-activity-descriptions-using-python-28b8b178dd95'''\n",
    "                }\n",
    "\n",
    "        update_post(idpar, data)\n",
    "    \n",
    "\n",
    "#GET ACTIVITIES\n",
    "\n",
    "import requests\n",
    "import pandas as pd\n",
    "from pandas import json_normalize\n",
    "import json\n",
    "import csv\n",
    "refresh_token()\n",
    "# Get the tokens from file to connect to Strava\n",
    "with open('strava_tokens.json') as json_file:\n",
    "    strava_tokens = json.load(json_file)\n",
    "# Loop through all activities\n",
    "url = \"https://www.strava.com/api/v3/activities\"\n",
    "access_token = strava_tokens['access_token']\n",
    "# Get first page of activities from Strava with all fields\n",
    "r = requests.get(url + '?access_token=' + access_token, verify=False)\n",
    "r = r.json()\n",
    "    \n",
    "df = pd.json_normalize(r)\n",
    "#df.to_csv('strava_activities_all_fields.csv')\n",
    "df.head(n=20)\n",
    "\n",
    "for index, acrow in df.head(n=2).iterrows():\n",
    "    print(acrow['id'])\n",
    "    if acrow['distance'] > 2000 and acrow['type'] == 'Ride':  \n",
    "        update_activity_post(acrow['id'], acrow['distance'], acrow['elapsed_time'] )"
   ]
  },
  {
   "cell_type": "markdown",
   "metadata": {},
   "source": [
    "import pandas as pd\n",
    "access_token = strava_tokens['access_token']\n",
    "test = create_dataframe(get_activitydata(7003567797))\n"
   ]
  },
  {
   "cell_type": "markdown",
   "metadata": {},
   "source": [
    "test.round(decimals = 2).to_csv('check.csv')"
   ]
  },
  {
   "cell_type": "markdown",
   "metadata": {},
   "source": []
  }
 ],
 "metadata": {
  "kernelspec": {
   "display_name": "Python 3.8.5 ('base')",
   "language": "python",
   "name": "python3"
  },
  "language_info": {
   "codemirror_mode": {
    "name": "ipython",
    "version": 3
   },
   "file_extension": ".py",
   "mimetype": "text/x-python",
   "name": "python",
   "nbconvert_exporter": "python",
   "pygments_lexer": "ipython3",
   "version": "3.11.3"
  },
  "varInspector": {
   "cols": {
    "lenName": 16,
    "lenType": 16,
    "lenVar": 40
   },
   "kernels_config": {
    "python": {
     "delete_cmd_postfix": "",
     "delete_cmd_prefix": "del ",
     "library": "var_list.py",
     "varRefreshCmd": "print(var_dic_list())"
    },
    "r": {
     "delete_cmd_postfix": ") ",
     "delete_cmd_prefix": "rm(",
     "library": "var_list.r",
     "varRefreshCmd": "cat(var_dic_list()) "
    }
   },
   "types_to_exclude": [
    "module",
    "function",
    "builtin_function_or_method",
    "instance",
    "_Feature"
   ],
   "window_display": false
  },
  "vscode": {
   "interpreter": {
    "hash": "8b62c3f9cbfbd56d3f94f4a2b65dddd2f37af687d32901d02083efe773aa6037"
   }
  }
 },
 "nbformat": 4,
 "nbformat_minor": 4
}
